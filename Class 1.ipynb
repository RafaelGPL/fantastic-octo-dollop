{
 "cells": [
  {
   "cell_type": "code",
   "execution_count": 6,
   "id": "97b0f771-5dfd-466a-b639-a845f3650595",
   "metadata": {},
   "outputs": [
    {
     "name": "stdout",
     "output_type": "stream",
     "text": [
      "h\n",
      "e\n",
      "l\n",
      "l\n",
      "o\n",
      ",\n",
      " \n",
      "w\n",
      "o\n",
      "r\n",
      "l\n",
      "d\n"
     ]
    }
   ],
   "source": [
    "for char in \"hello, world\":\n",
    "    print(char)\n"
   ]
  },
  {
   "cell_type": "markdown",
   "id": "2059a37e-7869-42b5-bc75-d9e90965b0ca",
   "metadata": {},
   "source": [
    "# Problem 1\n",
    "\n",
    "## Anagram Check\n",
    "Given two strings create a function that returns `True` if these are anagrams of each other, `False` otherwise.\n",
    "\n",
    "### Acceptance Critera\n",
    "Two strings are anagrams of each other if all the criteria below are met:\n",
    "1. They must use the same letters the same amount of times.\n",
    "2. They must be of equal length.\n",
    "\n",
    "```\n",
    "Examples:\n",
    "anagram_check(\"earth\", \"heart\") returns True\n",
    "anagram_check(\"star\", \"rats\") returns True\n",
    "anagram_check(\"cars\", \"scar\") returns True\n",
    "```"
   ]
  },
  {
   "cell_type": "code",
   "execution_count": 8,
   "id": "885cab67-705a-4f57-9e91-bd28eeffaa99",
   "metadata": {},
   "outputs": [
    {
     "data": {
      "text/plain": [
       "'a'"
      ]
     },
     "execution_count": 8,
     "metadata": {},
     "output_type": "execute_result"
    }
   ],
   "source": [
    "# \"Tom Marvolo Riddle\" -> \"I am Lord Voldemort\"\n",
    "\n",
    "ord(\"A\")\n",
    "chr(97)"
   ]
  },
  {
   "cell_type": "code",
   "execution_count": 9,
   "id": "5c3e3a22-3bde-4713-921e-ba22945470e4",
   "metadata": {},
   "outputs": [],
   "source": [
    "# Don't use clever solutions like this one:\n",
    "\n",
    "def anagram_check(str1, str2):\n",
    "    return sorted(str1) == sorted(str2)"
   ]
  },
  {
   "cell_type": "code",
   "execution_count": null,
   "id": "88707184-626a-475e-85bb-a549f357e850",
   "metadata": {},
   "outputs": [],
   "source": []
  }
 ],
 "metadata": {
  "kernelspec": {
   "display_name": "Python 3 (ipykernel)",
   "language": "python",
   "name": "python3"
  },
  "language_info": {
   "codemirror_mode": {
    "name": "ipython",
    "version": 3
   },
   "file_extension": ".py",
   "mimetype": "text/x-python",
   "name": "python",
   "nbconvert_exporter": "python",
   "pygments_lexer": "ipython3",
   "version": "3.11.4"
  }
 },
 "nbformat": 4,
 "nbformat_minor": 5
}
